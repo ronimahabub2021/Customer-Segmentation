{
  "nbformat": 4,
  "nbformat_minor": 0,
  "metadata": {
    "colab": {
      "private_outputs": true,
      "provenance": []
    },
    "kernelspec": {
      "name": "python3",
      "display_name": "Python 3"
    },
    "language_info": {
      "name": "python"
    }
  },
  "cells": [
    {
      "cell_type": "code",
      "execution_count": null,
      "metadata": {
        "id": "KjPfgLIFnEn7"
      },
      "outputs": [],
      "source": [
        "# ========== [1] Kaggle Dataset Setup ==========\n",
        "# Run this block only once (Google Colab specific)\n",
        "!mkdir -p ~/.kaggle\n",
        "!cp kaggle.json ~/.kaggle/\n",
        "!chmod 600 ~/.kaggle/kaggle.json"
      ]
    },
    {
      "cell_type": "code",
      "source": [
        "!kaggle datasets download vjchoudhary7/customer-segmentation-tutorial-in-python"
      ],
      "metadata": {
        "id": "0SUdEdtPnT3a"
      },
      "execution_count": null,
      "outputs": []
    },
    {
      "cell_type": "code",
      "source": [
        "!unzip customer-segmentation-tutorial-in-python.zip"
      ],
      "metadata": {
        "id": "YQ17wM6bnf6x"
      },
      "execution_count": null,
      "outputs": []
    },
    {
      "cell_type": "code",
      "source": [
        "# ========== [2] Import Required Libraries ==========\n",
        "import pandas as pd\n",
        "import numpy as np\n",
        "import matplotlib.pyplot as plt\n",
        "import seaborn as sns\n",
        "\n",
        "from sklearn.cluster import KMeans"
      ],
      "metadata": {
        "id": "UoVJvtagnjdQ"
      },
      "execution_count": null,
      "outputs": []
    },
    {
      "cell_type": "code",
      "source": [
        "# For cleaner plots\n",
        "sns.set(style=\"whitegrid\")\n",
        "plt.rcParams['figure.figsize'] = (10, 6)"
      ],
      "metadata": {
        "id": "UqbOVV4cn7T4"
      },
      "execution_count": null,
      "outputs": []
    },
    {
      "cell_type": "code",
      "source": [
        "# ========== [3] Load and Preprocess Data ==========\n",
        "df = pd.read_csv(\"Mall_Customers.csv\")\n",
        "\n",
        "# Rename columns for simplicity\n",
        "df.rename(columns={\n",
        "    'CustomerID': 'id',\n",
        "    'Gender': 'gender',\n",
        "    'Age': 'age',\n",
        "    'Annual Income (k$)': 'income',\n",
        "    'Spending Score (1-100)': 'score'\n",
        "}, inplace=True)"
      ],
      "metadata": {
        "id": "OXE9NC0zoBW6"
      },
      "execution_count": null,
      "outputs": []
    },
    {
      "cell_type": "code",
      "source": [
        "# Basic inspection\n",
        "print(\"Dataset Shape:\", df.shape)\n",
        "print(\"Missing Values:\\n\", df.isnull().sum())\n",
        "print(\"Duplicate Rows:\", df.duplicated().sum())"
      ],
      "metadata": {
        "id": "dNc0fPL9oGtj"
      },
      "execution_count": null,
      "outputs": []
    },
    {
      "cell_type": "code",
      "source": [
        "# ========== [4] Data Visualization ==========\n",
        "# Pairwise plot to understand relationships\n",
        "sns.pairplot(df[['age', 'income', 'score']])\n",
        "plt.suptitle(\"Pairwise Relationship Between Features\", y=1.02)\n",
        "plt.show()"
      ],
      "metadata": {
        "id": "JU45WjIRoMIC"
      },
      "execution_count": null,
      "outputs": []
    },
    {
      "cell_type": "code",
      "source": [
        "# ========== [5] Determine Optimal Clusters (Elbow Method) ==========\n",
        "wcss = []\n",
        "X = df[['income', 'score']]\n",
        "\n",
        "for i in range(1, 11):\n",
        "    kmeans = KMeans(n_clusters=i, random_state=42)\n",
        "    kmeans.fit(X)\n",
        "    wcss.append(kmeans.inertia_)\n"
      ],
      "metadata": {
        "id": "KsCa8nWToT0i"
      },
      "execution_count": null,
      "outputs": []
    },
    {
      "cell_type": "code",
      "source": [
        "# Plot Elbow Curve\n",
        "plt.plot(range(1, 11), wcss, marker='o')\n",
        "plt.title(\"Elbow Method for Optimal K\")\n",
        "plt.xlabel(\"Number of Clusters\")\n",
        "plt.ylabel(\"WCSS (Within-Cluster Sum of Squares)\")\n",
        "plt.xticks(range(1, 11))\n",
        "plt.grid(True)\n",
        "plt.show()"
      ],
      "metadata": {
        "id": "IApjjXw4oaVL"
      },
      "execution_count": null,
      "outputs": []
    },
    {
      "cell_type": "code",
      "source": [
        "# ========== [6] Apply K-Means Clustering ==========\n",
        "optimal_k = 5\n",
        "kmeans_model = KMeans(n_clusters=optimal_k, random_state=42)\n",
        "kmeans_model.fit(X)"
      ],
      "metadata": {
        "id": "D9B7Svohoh7w"
      },
      "execution_count": null,
      "outputs": []
    },
    {
      "cell_type": "code",
      "source": [
        "# Assign labels to original data\n",
        "df['cluster'] = kmeans_model.labels_"
      ],
      "metadata": {
        "id": "BBneVuWLorhL"
      },
      "execution_count": null,
      "outputs": []
    },
    {
      "cell_type": "code",
      "source": [
        "# Cluster centers\n",
        "centroids = kmeans_model.cluster_centers_\n",
        "print(\"Cluster Centers:\\n\", centroids)\n"
      ],
      "metadata": {
        "id": "dNA5qLR0oxfy"
      },
      "execution_count": null,
      "outputs": []
    },
    {
      "cell_type": "code",
      "source": [
        "# ========== [7] Cluster Visualization ==========\n",
        "# Scatter plot of clusters\n",
        "sns.scatterplot(data=df, x='score', y='income', hue='cluster', palette='Set2', s=100)\n",
        "plt.scatter(centroids[:, 1], centroids[:, 0], c='red', s=200, label='Centroids', marker='X')\n",
        "plt.title(\"Customer Segmentation (K-Means Clustering)\")\n",
        "plt.xlabel(\"Spending Score (1-100)\")\n",
        "plt.ylabel(\"Annual Income (k$)\")\n",
        "plt.legend()\n",
        "plt.show()"
      ],
      "metadata": {
        "id": "Uj8CF3lmpftP"
      },
      "execution_count": null,
      "outputs": []
    },
    {
      "cell_type": "code",
      "source": [
        "# ========== [8] Cluster Distribution ==========\n",
        "cluster_counts = df['cluster'].value_counts().sort_index()\n",
        "print(\"Number of customers in each cluster:\\n\", cluster_counts)"
      ],
      "metadata": {
        "id": "2SAwX8jap1po"
      },
      "execution_count": null,
      "outputs": []
    },
    {
      "cell_type": "code",
      "source": [
        "sns.countplot(data=df, x='cluster', hue='gender', palette='coolwarm')\n",
        "plt.title(\"Gender Distribution Across Clusters\")\n",
        "plt.xlabel(\"Cluster\")\n",
        "plt.ylabel(\"Number of Customers\")\n",
        "plt.legend(title=\"Gender\")\n",
        "plt.show()"
      ],
      "metadata": {
        "id": "u1TY7tmCqlQV"
      },
      "execution_count": null,
      "outputs": []
    },
    {
      "cell_type": "code",
      "source": [
        "df.to_csv(\"clustered_customers.csv\", index=False)"
      ],
      "metadata": {
        "id": "7HDFn9LDqyvt"
      },
      "execution_count": null,
      "outputs": []
    },
    {
      "cell_type": "code",
      "source": [
        "import joblib\n",
        "joblib.dump(kmeans_model, \"kmeans_model.pkl\")"
      ],
      "metadata": {
        "id": "IMzHDgg-q4TR"
      },
      "execution_count": null,
      "outputs": []
    }
  ]
}